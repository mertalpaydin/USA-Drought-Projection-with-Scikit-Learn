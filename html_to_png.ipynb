{
 "cells": [
  {
   "cell_type": "code",
   "execution_count": 3,
   "id": "96ed280b-260b-4258-87df-5b3100e799f8",
   "metadata": {},
   "outputs": [],
   "source": [
    "import os\n",
    "import glob\n",
    "from selenium import webdriver\n",
    "from selenium.webdriver.chrome.options import Options"
   ]
  },
  {
   "cell_type": "code",
   "execution_count": 4,
   "id": "4bdc7596-de33-48d4-bfe3-d8a422f77f62",
   "metadata": {},
   "outputs": [
    {
     "name": "stdout",
     "output_type": "stream",
     "text": [
      "Converted ./graphs\\2022_Actual.html to ./graphs\\2022_Actual.png\n",
      "Converted ./graphs\\2022_Predict.html to ./graphs\\2022_Predict.png\n",
      "Converted ./graphs\\2023_Actual.html to ./graphs\\2023_Actual.png\n",
      "Converted ./graphs\\2023_Predict.html to ./graphs\\2023_Predict.png\n",
      "Converted ./graphs\\2024_Prediction.html to ./graphs\\2024_Prediction.png\n",
      "Converted ./graphs\\2025_Prediction.html to ./graphs\\2025_Prediction.png\n",
      "Converted ./graphs\\2026_Prediction.html to ./graphs\\2026_Prediction.png\n",
      "Converted ./graphs\\2027_Prediction.html to ./graphs\\2027_Prediction.png\n",
      "Converted ./graphs\\2028_Prediction.html to ./graphs\\2028_Prediction.png\n",
      "Converted ./graphs\\2029_Prediction.html to ./graphs\\2029_Prediction.png\n",
      "Converted ./graphs\\2030_Prediction.html to ./graphs\\2030_Prediction.png\n",
      "Converted ./graphs\\2031_Prediction.html to ./graphs\\2031_Prediction.png\n",
      "Converted ./graphs\\2032_Prediction.html to ./graphs\\2032_Prediction.png\n",
      "Converted ./graphs\\2033_Prediction.html to ./graphs\\2033_Prediction.png\n",
      "Converted ./graphs\\2034_Prediction.html to ./graphs\\2034_Prediction.png\n",
      "Converted ./graphs\\2035_Prediction.html to ./graphs\\2035_Prediction.png\n",
      "Converted ./graphs\\2036_Prediction.html to ./graphs\\2036_Prediction.png\n",
      "Converted ./graphs\\2037_Prediction.html to ./graphs\\2037_Prediction.png\n",
      "Converted ./graphs\\2038_Prediction.html to ./graphs\\2038_Prediction.png\n",
      "Converted ./graphs\\2039_Prediction.html to ./graphs\\2039_Prediction.png\n",
      "Converted ./graphs\\2040_Prediction.html to ./graphs\\2040_Prediction.png\n",
      "Converted ./graphs\\2041_Prediction.html to ./graphs\\2041_Prediction.png\n",
      "Converted ./graphs\\2042_Prediction.html to ./graphs\\2042_Prediction.png\n",
      "Converted ./graphs\\2043_Prediction.html to ./graphs\\2043_Prediction.png\n",
      "Converted ./graphs\\2044_Prediction.html to ./graphs\\2044_Prediction.png\n",
      "Converted ./graphs\\2045_Prediction.html to ./graphs\\2045_Prediction.png\n",
      "Converted ./graphs\\2046_Prediction.html to ./graphs\\2046_Prediction.png\n",
      "Converted ./graphs\\2047_Prediction.html to ./graphs\\2047_Prediction.png\n",
      "Converted ./graphs\\2048_Prediction.html to ./graphs\\2048_Prediction.png\n",
      "Converted ./graphs\\2049_Prediction.html to ./graphs\\2049_Prediction.png\n",
      "Converted ./graphs\\2050_Prediction.html to ./graphs\\2050_Prediction.png\n"
     ]
    }
   ],
   "source": [
    "def convert_html_to_png(html_file, output_file):\n",
    "    chrome_options = Options()\n",
    "    chrome_options.add_argument(\"--headless\")\n",
    "    driver = webdriver.Chrome(options=chrome_options)\n",
    "\n",
    "    # Open the HTML file\n",
    "    driver.get(f\"file://{os.path.abspath(html_file)}\")\n",
    "\n",
    "    # Set the window size (adjust as needed)\n",
    "    driver.set_window_size(1024, 768)\n",
    "\n",
    "    # Save screenshot as PNG\n",
    "    driver.save_screenshot(output_file)\n",
    "\n",
    "    # Close the browser\n",
    "    driver.quit()\n",
    "\n",
    "\n",
    "# Path to the directory containing HTML files\n",
    "directory = \"./graphs\"\n",
    "\n",
    "# Create the output directory if it doesn't exist\n",
    "if not os.path.exists(directory):\n",
    "    os.makedirs(directory)\n",
    "\n",
    "# Find all HTML files in the directory\n",
    "html_files = glob.glob(os.path.join(directory, \"*.html\"))\n",
    "\n",
    "# Loop through each HTML file and convert it to PNG\n",
    "for html_file in html_files:\n",
    "    # Extract the base name of the file (without directory and extension)\n",
    "    base_name = os.path.basename(html_file).replace(\".html\", \"\")\n",
    "    \n",
    "    # Define output PNG file path\n",
    "    output_file = os.path.join(directory, f\"{base_name}.png\")\n",
    "    \n",
    "    # Convert the HTML to PNG\n",
    "    convert_html_to_png(html_file, output_file)\n",
    "\n",
    "    print(f\"Converted {html_file} to {output_file}\")"
   ]
  }
 ],
 "metadata": {
  "kernelspec": {
   "display_name": "Python 3 (ipykernel)",
   "language": "python",
   "name": "python3"
  },
  "language_info": {
   "codemirror_mode": {
    "name": "ipython",
    "version": 3
   },
   "file_extension": ".py",
   "mimetype": "text/x-python",
   "name": "python",
   "nbconvert_exporter": "python",
   "pygments_lexer": "ipython3",
   "version": "3.11.9"
  }
 },
 "nbformat": 4,
 "nbformat_minor": 5
}
